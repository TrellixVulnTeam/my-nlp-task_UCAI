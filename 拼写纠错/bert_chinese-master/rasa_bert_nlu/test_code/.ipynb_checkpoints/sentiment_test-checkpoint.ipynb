{
 "cells": [
  {
   "cell_type": "code",
   "execution_count": null,
   "metadata": {},
   "outputs": [],
   "source": [
    "from rasa_nlu.training_data import load_data\n",
    "from rasa_nlu.config import RasaNLUModelConfig\n",
    "from rasa_nlu.model import Trainer\n",
    "from rasa_nlu.model import Metadata, Interpreter\n",
    "import time\n",
    "import pdb\n",
    "\n",
    "def cal_time():\n",
    "    tic = time.time()\n",
    "    i = 0\n",
    "    for examples in training_data.training_examples:\n",
    "        text = examples.text\n",
    "        result = interpreter.parse(text)\n",
    "        print(result)\n",
    "        if i%10==0 and i>0:\n",
    "            toc = time.time()\n",
    "            print(\"time:\",(toc-tic)/i)\n",
    "        i+=1\n",
    "    toc = time.time()\n",
    "    time_per_text = (toc-tic)/len(training_data.training_examples)\n",
    "    print(\"mean_time:\",time_per_text)\n",
    "\n",
    "\n",
    "training_data = load_data('data/sentiment_analyzer/trainset.json')\n",
    "\n",
    "pipeline = [{\"name\": \"tokenizer_bert\"},\n",
    "            {\"name\": \"intent_featurizer_bert\",\"pooled_output\":True},\n",
    "            {\"name\": \"sentiment_analyzer_bert_keras\",\"pooled_output\":True,\"num_hidden_layers\":1,\"early_stop_patience\":10}\n",
    "            ]\n",
    "\n",
    "\n",
    "##train:\n",
    "trainer = Trainer(RasaNLUModelConfig({\"pipeline\": pipeline,\"language\":\"zh\"}))\n",
    "interpreter = trainer.train(training_data)\n",
    "model_directory = trainer.persist('projects/sentiment_analyzer/')\n",
    "query = \"你好哇！\"\n",
    "print(interpreter.parse(query))\n",
    "cal_time()\n",
    "\n",
    "##test:\n",
    "# model_directory = '/home1/shenxing/rasa_bert/./projects/default/model_20181219-175938'\n",
    "# config = RasaNLUModelConfig({\"pipeline\": pipeline,\"language\":\"zh\"})\n",
    "# metadata_model = Metadata.load(model_directory)\n",
    "# interpreter = Interpreter.load(metadata_model, config)\n",
    "# from rasa_nlu.model import Metadata, Interpreter\n",
    "# interpreter = Interpreter.load('/home1/shenxing/rasa_bert/./projects/default/model_20181219-200508')\n",
    "# query = \"你好哇！\"\n",
    "# print(interpreter.parse(query))\n",
    "\n",
    "# from rasa_nlu.evaluate import *\n",
    "# run_evaluation(\"data/data2/out_test.json\", \"projects/default//model_20181219-200508\")"
   ]
  }
 ],
 "metadata": {
  "kernelspec": {
   "display_name": "Python 3",
   "language": "python",
   "name": "python3"
  },
  "language_info": {
   "codemirror_mode": {
    "name": "ipython",
    "version": 3
   },
   "file_extension": ".py",
   "mimetype": "text/x-python",
   "name": "python",
   "nbconvert_exporter": "python",
   "pygments_lexer": "ipython3",
   "version": "3.6.6"
  }
 },
 "nbformat": 4,
 "nbformat_minor": 2
}
