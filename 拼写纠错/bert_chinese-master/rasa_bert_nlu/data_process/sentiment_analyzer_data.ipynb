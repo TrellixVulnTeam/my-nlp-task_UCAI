{
 "cells": [
  {
   "cell_type": "markdown",
   "metadata": {},
   "source": [
    "data from https://github.com/z17176/Chinese_conversation_sentiment"
   ]
  },
  {
   "cell_type": "code",
   "execution_count": 61,
   "metadata": {},
   "outputs": [],
   "source": [
    "#训练集\n",
    "#用intent代替sentiment作为训练时的label\n",
    "import pandas as pd\n",
    "import json\n",
    "import random\n",
    "\n",
    "data = pd.read_csv('/home1/shenxing/datasets/Chinese_conversation_sentiment/sentiment_XS_test.txt')\n",
    "data = data.replace('negative','0')\n",
    "data = data.replace('positive','1')\n",
    "\n",
    "all_examples = []\n",
    "for i in range(len(data)):\n",
    "    data_i = data.loc[i]\n",
    "    text_i = data_i.text\n",
    "    text_i = ''.join(text_i.split())\n",
    "    sentiment = data_i.labels\n",
    "    example = {}\n",
    "#     example['intent'] = 'Null'\n",
    "    example['text'] = text_i\n",
    "    example['intent'] = sentiment\n",
    "    all_examples.append(example)\n",
    "\n",
    "save_url = \"/home1/shenxing/rasa_bert_nlu/data/sentiment_analyzer/trainset.json\"\n",
    "data_train_json = {\"rasa_nlu_data\": {\"common_examples\": all_examples}}\n",
    "data_train_save = open(save_url, 'w')\n",
    "json.dump(data_train_json, data_train_save,indent=4,ensure_ascii=False)\n",
    "#要多运行一次"
   ]
  },
  {
   "cell_type": "code",
   "execution_count": 62,
   "metadata": {},
   "outputs": [],
   "source": [
    "import sys\n",
    "sys.path.append('..')\n",
    "from rasa_nlu.training_data import load_data\n",
    "training_data = load_data(save_url)"
   ]
  },
  {
   "cell_type": "code",
   "execution_count": 64,
   "metadata": {},
   "outputs": [],
   "source": [
    "#测试集\n",
    "import pandas as pd\n",
    "import json\n",
    "import random\n",
    "\n",
    "\n",
    "data = pd.read_csv('/home1/shenxing/datasets/Chinese_conversation_sentiment/sentiment_XS_30k.txt')\n",
    "data = data.replace('negative','0')\n",
    "data = data.replace('positive','1')\n",
    "\n",
    "all_examples = []\n",
    "for i in range(len(data)):\n",
    "    data_i = data.loc[i]\n",
    "    text_i = data_i.text\n",
    "    text_i = ''.join(text_i.split())\n",
    "    sentiment = data_i.labels\n",
    "    example = {}\n",
    "#     example['intent'] = 'Null'\n",
    "    example['text'] = text_i\n",
    "    example['intent'] = sentiment\n",
    "    all_examples.append(example)\n",
    "\n",
    "save_url = \"/home1/shenxing/rasa_bert_nlu/data/sentiment_analyzer/testset.json\"\n",
    "data_train_json = {\"rasa_nlu_data\": {\"common_examples\": all_examples}}\n",
    "data_train_save = open(save_url, 'w')\n",
    "json.dump(data_train_json, data_train_save,indent=4,ensure_ascii=False)"
   ]
  },
  {
   "cell_type": "code",
   "execution_count": 65,
   "metadata": {},
   "outputs": [],
   "source": [
    "import sys\n",
    "sys.path.append('..')\n",
    "from rasa_nlu.training_data import load_data\n",
    "training_data = load_data(save_url)"
   ]
  },
  {
   "cell_type": "code",
   "execution_count": 67,
   "metadata": {},
   "outputs": [],
   "source": [
    "#测试集\n",
    "import pandas as pd\n",
    "import json\n",
    "import random\n",
    "\n",
    "\n",
    "data = pd.read_csv('/home1/shenxing/datasets/Chinese_conversation_sentiment/sentiment_XS_test.txt')\n",
    "data = data.replace('negative','0')\n",
    "data = data.replace('positive','1')\n",
    "data = data[0:50]\n",
    "\n",
    "all_examples = []\n",
    "for i in range(len(data)):\n",
    "    data_i = data.loc[i]\n",
    "    text_i = data_i.text\n",
    "    text_i = ''.join(text_i.split())\n",
    "    sentiment = data_i.labels\n",
    "    example = {}\n",
    "#     example['intent'] = 'Null'\n",
    "    example['text'] = text_i\n",
    "    example['intent'] = sentiment\n",
    "    all_examples.append(example)\n",
    "\n",
    "save_url = \"/home1/shenxing/rasa_bert_nlu/data/sentiment_analyzer/little.json\"\n",
    "data_train_json = {\"rasa_nlu_data\": {\"common_examples\": all_examples}}\n",
    "data_train_save = open(save_url, 'w')\n",
    "json.dump(data_train_json, data_train_save,indent=4,ensure_ascii=False)"
   ]
  },
  {
   "cell_type": "code",
   "execution_count": 68,
   "metadata": {},
   "outputs": [],
   "source": [
    "import sys\n",
    "sys.path.append('..')\n",
    "from rasa_nlu.training_data import load_data\n",
    "training_data = load_data(save_url)"
   ]
  },
  {
   "cell_type": "code",
   "execution_count": null,
   "metadata": {},
   "outputs": [],
   "source": []
  }
 ],
 "metadata": {
  "kernelspec": {
   "display_name": "Python 3",
   "language": "python",
   "name": "python3"
  },
  "language_info": {
   "codemirror_mode": {
    "name": "ipython",
    "version": 3
   },
   "file_extension": ".py",
   "mimetype": "text/x-python",
   "name": "python",
   "nbconvert_exporter": "python",
   "pygments_lexer": "ipython3",
   "version": "3.6.6"
  }
 },
 "nbformat": 4,
 "nbformat_minor": 2
}
