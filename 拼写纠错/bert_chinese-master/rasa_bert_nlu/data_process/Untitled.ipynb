{
 "cells": [
  {
   "cell_type": "code",
   "execution_count": 2,
   "metadata": {},
   "outputs": [],
   "source": [
    "import pickle"
   ]
  },
  {
   "cell_type": "code",
   "execution_count": 2,
   "metadata": {},
   "outputs": [],
   "source": [
    "import pandas as pd"
   ]
  },
  {
   "cell_type": "code",
   "execution_count": 3,
   "metadata": {},
   "outputs": [],
   "source": [
    "import io\n",
    "with io.open('../models/rasa_bert/rasa_bert_beiti_1layer/intent_classifier_bert_keras_inv_intent_dict.pkl', 'rb') as f:\n",
    "    inv_intent_dict = pickle.load(f)"
   ]
  },
  {
   "cell_type": "code",
   "execution_count": 6,
   "metadata": {},
   "outputs": [],
   "source": [
    "file = open('../data/beiti_project/stories.md','w')"
   ]
  },
  {
   "cell_type": "code",
   "execution_count": 9,
   "metadata": {},
   "outputs": [
    {
     "data": {
      "text/plain": [
       "['1', '报名操作']"
      ]
     },
     "execution_count": 9,
     "metadata": {},
     "output_type": "execute_result"
    }
   ],
   "source": [
    "V[0].split('.')"
   ]
  },
  {
   "cell_type": "code",
   "execution_count": 10,
   "metadata": {},
   "outputs": [
    {
     "data": {
      "text/plain": [
       "'1.报名操作'"
      ]
     },
     "execution_count": 10,
     "metadata": {},
     "output_type": "execute_result"
    }
   ],
   "source": [
    "V[0]"
   ]
  },
  {
   "cell_type": "code",
   "execution_count": 14,
   "metadata": {},
   "outputs": [],
   "source": [
    "file = open('../data/beiti_project/stories.md','w')\n",
    "for i in range(len(V)):\n",
    "    path = \"path_\"+str(V[i].split('.')[0])\n",
    "    start = \"## \"+path +'\\n'\n",
    "    file.write(start)\n",
    "    intent = \"* \"+V[i]+'\\n'\n",
    "    file.write(intent)\n",
    "    utter = \"  - utter\"+str(V[i].split('.')[0])+'\\n'\n",
    "    file.write(utter)\n",
    "    file.write('\\n')\n",
    "file.close()\n",
    "    "
   ]
  },
  {
   "cell_type": "code",
   "execution_count": null,
   "metadata": {},
   "outputs": [],
   "source": []
  },
  {
   "cell_type": "code",
   "execution_count": 5,
   "metadata": {},
   "outputs": [
    {
     "name": "stdout",
     "output_type": "stream",
     "text": [
      "0 1.报名操作\n",
      "1 10.满分几分\n",
      "2 11.现场确认\n",
      "3 12.考试时间\n",
      "4 13.考试科目安排\n",
      "5 14.之前用户名还能不能用\n",
      "6 15.忘记用户名和密码\n",
      "7 16.注册页面不可修改\n",
      "8 17.推免生参加统考\n",
      "9 18.考试方式\n",
      "10 19.专项计划\n",
      "11 2.必须网上报名\n",
      "12 20.单独考试\n",
      "13 21.人才培养计划\n",
      "14 22.姓名填写注意事项\n",
      "15 23.姓名拼音项规则\n",
      "16 24.证件类型填写\n",
      "17 25.考试通信地址重要性\n",
      "18 26.考试联系方式重要性\n",
      "19 27.考生来源分类\n",
      "20 28.学历学习分类\n",
      "21 29.考试来源和学历形式关系\n",
      "22 3.有效时间\n",
      "23 30.毕业证书编号\n",
      "24 31.未获取到学位证书学位项目\n",
      "25 32.学位证书编号项\n",
      "26 33.填写毕业院校名称\n",
      "27 34.备注信息作用.\n",
      "28 35.报考类别事项\n",
      "29 36.怎么填户口和档案\n",
      "30 37.工作单位怎么填\n",
      "31 38.奖励处分和作弊填写\n",
      "32 39.家庭成员怎么写\n",
      "33 4.非大陆人士\n",
      "34 40.询问限制字节\n",
      "35 41.专业项要求\n",
      "36 42.报考点注意事项\n",
      "37 43.报考点下拉无效\n",
      "38 44.修改信息\n",
      "39 45.判断是否成功缴费\n",
      "40 46.系统提示无法访问\n",
      "41 47.不知道是否注册\n",
      "42 48.银行行号是什么意思\n",
      "43 49.附件过大怎么办\n",
      "44 5.提交信息跳回首页\n",
      "45 50.注册异常\n",
      "46 51.审批多久\n",
      "47 52.找不到想投标的项目\n",
      "48 53.缴费成功显示继续支付\n",
      "49 54.在线支付失败\n",
      "50 55.如何取发票\n",
      "51 56.如何获取招标文件\n",
      "52 6.已填写仍提示不能为空\n",
      "53 7.年龄限制\n",
      "54 8.同等学历\n",
      "55 9.考试科目\n"
     ]
    }
   ],
   "source": [
    "V = []\n",
    "response_dict = {}\n",
    "for key,value in inv_intent_dict.items():\n",
    "    print(key,value)\n",
    "    V.append(value)"
   ]
  },
  {
   "cell_type": "code",
   "execution_count": null,
   "metadata": {},
   "outputs": [],
   "source": []
  },
  {
   "cell_type": "code",
   "execution_count": 21,
   "metadata": {},
   "outputs": [],
   "source": [
    "response_dict['1.报名操作'] = \"首先需要注册为青训网站用户（注册网址：https://              ），注册成功后点击页面菜单栏中的\\\"立即报名\\\"链接，按步骤开始网上报名即可。产生9位数字的报考号，则表明报名成功。请牢记注册账号、密码和报考号等信息。\"\n",
    "response_dict['2.必须网上报名'] = \"根据教育部规定，对全国硕士研究生入学考试报名全面实行网上报名，所有类型的考生都应该参加网上报名，包括全国统考，推荐免试，单独考试，管理类联考，法硕联考，强军计划，援藏计划，农村师资计划等 。报名网站是中国研究生招生信息网，网址是 yz.chsi.com.cn 或 yz.chsi.cn 。\"\n",
    "response_dict['3.有效时间'] = \"（1）第一阶段时间： 09月25日至29日，每天 9：00 至 22：00 。\\n（2）第二阶段时间： 10月10日至31日，每天 9：00 至 22：00 。\\n（3）两阶段的报名均为有效报名，考生无需重新填报，第一阶段报名主要是应届毕业生网上报名。\"\n",
    "response_dict['4.非大陆人士'] = \n"
   ]
  },
  {
   "cell_type": "code",
   "execution_count": null,
   "metadata": {},
   "outputs": [],
   "source": []
  }
 ],
 "metadata": {
  "kernelspec": {
   "display_name": "Python 3",
   "language": "python",
   "name": "python3"
  },
  "language_info": {
   "codemirror_mode": {
    "name": "ipython",
    "version": 3
   },
   "file_extension": ".py",
   "mimetype": "text/x-python",
   "name": "python",
   "nbconvert_exporter": "python",
   "pygments_lexer": "ipython3",
   "version": "3.6.6"
  }
 },
 "nbformat": 4,
 "nbformat_minor": 2
}
